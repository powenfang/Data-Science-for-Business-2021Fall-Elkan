{
  "nbformat": 4,
  "nbformat_minor": 0,
  "metadata": {
    "kernelspec": {
      "display_name": "Python 3",
      "language": "python",
      "name": "python3"
    },
    "language_info": {
      "codemirror_mode": {
        "name": "ipython",
        "version": 3
      },
      "file_extension": ".py",
      "mimetype": "text/x-python",
      "name": "python",
      "nbconvert_exporter": "python",
      "pygments_lexer": "ipython3",
      "version": "3.6.5"
    },
    "colab": {
      "name": "Elkan HW1.ipynb",
      "provenance": [],
      "collapsed_sections": []
    }
  },
  "cells": [
    {
      "cell_type": "markdown",
      "metadata": {
        "id": "x6gBiRgI8Qjp"
      },
      "source": [
        "To open this notebook in Colab, click below:\n",
        "\n",
        "<a href=\"https://colab.research.google.com/github/powenfang/Data-Science-for-Business-2021Fall-Elkan/blob/master/Homeworks/HW1.ipynb\" target=\"_parent\"> <img src=\"https://colab.research.google.com/assets/colab-badge.svg\" alt=\"Open In Colab\" /> </a>"
      ]
    },
    {
      "cell_type": "markdown",
      "metadata": {
        "id": "Vh4mT23hkaBW"
      },
      "source": [
        "#This is Homework 1, due on Friday September 24, 2021\n",
        "\n",
        "Make sure that you are running this interactive notebook in Colab and as a copy saved in your personal Google Drive.\n",
        "\n",
        "First, run the following cell.\n",
        "\n",
        "<!-- If you are running this notebook for the first time, run the following cell. \n",
        "If you run the cell more than once and get the error message \"fatal: destination path 'Data-Science-for-Business-2021Fall-Elkan' already exists and is not an empty directory\" that is ok. -->"
      ]
    },
    {
      "cell_type": "code",
      "metadata": {
        "scrolled": true,
        "id": "K9m5WSsJ8Qjr",
        "colab": {
          "base_uri": "https://localhost:8080/"
        },
        "outputId": "329de76b-5213-43c6-9c76-63c0cca68aa8"
      },
      "source": [
        "!git clone https://github.com/powenfang/Data-Science-for-Business-2021Fall-Elkan\n",
        "%cd Data-Science-for-Business-2021Fall-Elkan/Homeworks/"
      ],
      "execution_count": 5,
      "outputs": [
        {
          "output_type": "stream",
          "name": "stdout",
          "text": [
            "Cloning into 'Data-Science-for-Business-2021Fall-Elkan'...\n",
            "remote: Enumerating objects: 26, done.\u001b[K\n",
            "remote: Counting objects:   3% (1/26)\u001b[K\rremote: Counting objects:   7% (2/26)\u001b[K\rremote: Counting objects:  11% (3/26)\u001b[K\rremote: Counting objects:  15% (4/26)\u001b[K\rremote: Counting objects:  19% (5/26)\u001b[K\rremote: Counting objects:  23% (6/26)\u001b[K\rremote: Counting objects:  26% (7/26)\u001b[K\rremote: Counting objects:  30% (8/26)\u001b[K\rremote: Counting objects:  34% (9/26)\u001b[K\rremote: Counting objects:  38% (10/26)\u001b[K\rremote: Counting objects:  42% (11/26)\u001b[K\rremote: Counting objects:  46% (12/26)\u001b[K\rremote: Counting objects:  50% (13/26)\u001b[K\rremote: Counting objects:  53% (14/26)\u001b[K\rremote: Counting objects:  57% (15/26)\u001b[K\rremote: Counting objects:  61% (16/26)\u001b[K\rremote: Counting objects:  65% (17/26)\u001b[K\rremote: Counting objects:  69% (18/26)\u001b[K\rremote: Counting objects:  73% (19/26)\u001b[K\rremote: Counting objects:  76% (20/26)\u001b[K\rremote: Counting objects:  80% (21/26)\u001b[K\rremote: Counting objects:  84% (22/26)\u001b[K\rremote: Counting objects:  88% (23/26)\u001b[K\rremote: Counting objects:  92% (24/26)\u001b[K\rremote: Counting objects:  96% (25/26)\u001b[K\rremote: Counting objects: 100% (26/26)\u001b[K\rremote: Counting objects: 100% (26/26), done.\u001b[K\n",
            "remote: Compressing objects:   4% (1/21)\u001b[K\rremote: Compressing objects:   9% (2/21)\u001b[K\rremote: Compressing objects:  14% (3/21)\u001b[K\rremote: Compressing objects:  19% (4/21)\u001b[K\rremote: Compressing objects:  23% (5/21)\u001b[K\rremote: Compressing objects:  28% (6/21)\u001b[K\rremote: Compressing objects:  33% (7/21)\u001b[K\rremote: Compressing objects:  38% (8/21)\u001b[K\rremote: Compressing objects:  42% (9/21)\u001b[K\rremote: Compressing objects:  47% (10/21)\u001b[K\rremote: Compressing objects:  52% (11/21)\u001b[K\rremote: Compressing objects:  57% (12/21)\u001b[K\rremote: Compressing objects:  61% (13/21)\u001b[K\rremote: Compressing objects:  66% (14/21)\u001b[K\rremote: Compressing objects:  71% (15/21)\u001b[K\rremote: Compressing objects:  76% (16/21)\u001b[K\rremote: Compressing objects:  80% (17/21)\u001b[K\rremote: Compressing objects:  85% (18/21)\u001b[K\rremote: Compressing objects:  90% (19/21)\u001b[K\rremote: Compressing objects:  95% (20/21)\u001b[K\rremote: Compressing objects: 100% (21/21)\u001b[K\rremote: Compressing objects: 100% (21/21), done.\u001b[K\n",
            "remote: Total 26 (delta 7), reused 10 (delta 1), pack-reused 0\u001b[K\n",
            "Unpacking objects: 100% (26/26), done.\n",
            "/content/Data-Science-for-Business-2021Fall-Elkan/Homeworks/Data-Science-for-Business-2021Fall-Elkan/Homeworks/Data-Science-for-Business-2021Fall-Elkan/Homeworks\n"
          ]
        }
      ]
    },
    {
      "cell_type": "markdown",
      "metadata": {
        "id": "yTocskc5lrBZ"
      },
      "source": [
        "0. Immediately below here, create a new text cell. Inside the new cell, explain in your own words, what the commands in the cell above do. Write one to three sentences."
      ]
    },
    {
      "cell_type": "markdown",
      "metadata": {
        "id": "JZ3VTdBt8Qjt"
      },
      "source": [
        "## Graduate admissions case study"
      ]
    },
    {
      "cell_type": "markdown",
      "metadata": {
        "id": "fidxFi8L8Qju"
      },
      "source": [
        "You've been hired by Hudson University as a data scientist for the Graduate Admissions Office. Since the admissions process is long and tedious, it is often a bottleneck for other tasks, such as planning resources to accommodate the admitted students (housing, classes, etc). You have been asked to train a model to predict which students will be admitted using the following historical data: \n",
        "\n",
        "1. Serial No. (serves as unique identifier)\n",
        "2. GRE Scores (out of 340) \n",
        "3. TOEFL Scores (out of 120) \n",
        "4. Previous university rating (out of 5).\n",
        "5. Statement of purpose strength (out of 5)\n",
        "6. Letters of recommendation strength (out of 5) \n",
        "7. Undergraduate GPA (out of 10) \n",
        "8. Research experience (either 0 or 1) \n",
        "\n",
        "The label is \"Chance of Admit\", ranging from 0 to 1.\n",
        "\n",
        "The labels for the applicants in your data were assessed by an expert. Given that attributes 1 to 8 would be available early in the admissions process for future applications, a model predicting chances of admit would allow planning tasks to start earlier."
      ]
    },
    {
      "cell_type": "code",
      "metadata": {
        "id": "4JdhWECl8Qjv"
      },
      "source": [
        "# Some libraries you may need\n",
        "import pandas as pd\n",
        "import numpy as np\n",
        "import matplotlib.pyplot as plt\n",
        "import seaborn as sns\n",
        "\n",
        "# Trick to display plots inline with the rest of your notebook.\n",
        "%matplotlib inline"
      ],
      "execution_count": 1,
      "outputs": []
    },
    {
      "cell_type": "markdown",
      "metadata": {
        "id": "F24wUqYi8Qjw"
      },
      "source": [
        "1. Write code to load the homework data into a pandas data frame,\n",
        "and then print the number of rows and columns in the dataset."
      ]
    },
    {
      "cell_type": "code",
      "metadata": {
        "id": "pc63P8uf8Qjw"
      },
      "source": [
        "data_path = \"./data/data-hw1.csv\"\n",
        "# YOUR CODE HERE"
      ],
      "execution_count": 9,
      "outputs": []
    },
    {
      "cell_type": "markdown",
      "metadata": {
        "id": "J0BAZK3M8Qjx"
      },
      "source": [
        "2. Write code to rename some of the columns in the dataframe. This makes manipulating the data easier.\n",
        "\n"
      ]
    },
    {
      "cell_type": "code",
      "metadata": {
        "id": "mU9TzPKH8Qjx"
      },
      "source": [
        "# YOUR CODE HERE"
      ],
      "execution_count": 8,
      "outputs": []
    },
    {
      "cell_type": "markdown",
      "metadata": {
        "id": "9ZbUoKr18Qjy"
      },
      "source": [
        "3. Write code to display descriptive statistics for all columns."
      ]
    },
    {
      "cell_type": "code",
      "metadata": {
        "collapsed": true,
        "scrolled": true,
        "id": "shKIfHOI8Qjz"
      },
      "source": [
        "#YOUR CODE HERE"
      ],
      "execution_count": null,
      "outputs": []
    },
    {
      "cell_type": "markdown",
      "metadata": {
        "id": "QjTB8diH8Qjz"
      },
      "source": [
        "4. Write code to drop the serial number column. This is helpful to visualize things later on."
      ]
    },
    {
      "cell_type": "code",
      "metadata": {
        "collapsed": true,
        "id": "nRUtQlzt8Qjz"
      },
      "source": [
        "#YOUR CODE HERE"
      ],
      "execution_count": null,
      "outputs": []
    },
    {
      "cell_type": "markdown",
      "metadata": {
        "id": "djKwBdE78Qj0"
      },
      "source": [
        "5. What is the distribution of the chances of admit? Write code to plot a histogram of this variable."
      ]
    },
    {
      "cell_type": "code",
      "metadata": {
        "collapsed": true,
        "id": "PMicr4ZD8Qj0"
      },
      "source": [
        "#YOUR CODE HERE"
      ],
      "execution_count": null,
      "outputs": []
    },
    {
      "cell_type": "markdown",
      "metadata": {
        "id": "JTXQufag8Qj0"
      },
      "source": [
        "6. Chances of admit seem to vary quite a bit. How much variation depends on research experience? Print the average chance of admit against research. (This can be done using \"groupby\" in pandas.)"
      ]
    },
    {
      "cell_type": "code",
      "metadata": {
        "collapsed": true,
        "id": "XYqswDo28Qj0"
      },
      "source": [
        "#YOUR CODE HERE"
      ],
      "execution_count": null,
      "outputs": []
    },
    {
      "cell_type": "markdown",
      "metadata": {
        "id": "3NPkhAmJ8Qj1"
      },
      "source": [
        "7. Does the distribution of chances of admit change with previous university rating? Plot a histogram of chances of admit for each value of university rating."
      ]
    },
    {
      "cell_type": "code",
      "metadata": {
        "collapsed": true,
        "id": "XqLBM5I28Qj1"
      },
      "source": [
        "#YOUR CODE HERE"
      ],
      "execution_count": null,
      "outputs": []
    },
    {
      "cell_type": "markdown",
      "metadata": {
        "id": "ty9Gg6NK8Qj1"
      },
      "source": [
        "8. Another way to look at the relationship between two variables is a scatter plot. Show a scatter plot of TOEFL score versus chance of admit."
      ]
    },
    {
      "cell_type": "code",
      "metadata": {
        "collapsed": true,
        "id": "42WU1AOT8Qj1"
      },
      "source": [
        "#YOUR CODE HERE"
      ],
      "execution_count": null,
      "outputs": []
    },
    {
      "cell_type": "markdown",
      "metadata": {
        "id": "OQubMmgn8Qj1"
      },
      "source": [
        "9. Boxplots are also useful to look at the relationship between a categorical variable and a numerical variable. Use the \"seaborn\" library to show boxplots of chance of admit grouped by university rating."
      ]
    },
    {
      "cell_type": "code",
      "metadata": {
        "collapsed": true,
        "id": "4kA7ivBC8Qj2"
      },
      "source": [
        "#YOUR CODE HERE"
      ],
      "execution_count": null,
      "outputs": []
    },
    {
      "cell_type": "markdown",
      "metadata": {
        "id": "eYwHh5YT8Qj2"
      },
      "source": [
        "Often it is useful to quantify how strong the relationship is between different variables. Pearson's correlation coefficient can show whether one numerical variable gives (linear) information about another numerical variable. Pandas allows us to compute the Pearson correlation coefficient between all pairs of columns in a dataframe. \n",
        "\n",
        "10. Write code to display the correlations between all pairs of columns."
      ]
    },
    {
      "cell_type": "code",
      "metadata": {
        "collapsed": true,
        "id": "wSCCNux38Qj2"
      },
      "source": [
        "#YOUR CODE HERE"
      ],
      "execution_count": null,
      "outputs": []
    },
    {
      "cell_type": "markdown",
      "metadata": {
        "id": "hHP75ILR8Qj2"
      },
      "source": [
        "Heatmaps are a tool for visualizing correlations. \n",
        "\n",
        "11. Plot these pairwise correlations as a heatmap, using seaborn. Which pairs of variables are most closely correlated? Which variable gives the most information on chance of admit?"
      ]
    },
    {
      "cell_type": "code",
      "metadata": {
        "collapsed": true,
        "id": "VUi9Xo5Z8Qj2"
      },
      "source": [
        "#YOUR CODE HERE"
      ],
      "execution_count": null,
      "outputs": []
    },
    {
      "cell_type": "markdown",
      "metadata": {
        "id": "P1_IefqQ8Qj2"
      },
      "source": [
        "12. Write code to train a linear model to predict the chance of admit using the application data available. "
      ]
    },
    {
      "cell_type": "code",
      "metadata": {
        "collapsed": true,
        "id": "ILKPRVxO8Qj3"
      },
      "source": [
        "#YOUR CODE HERE"
      ],
      "execution_count": null,
      "outputs": []
    },
    {
      "cell_type": "markdown",
      "metadata": {
        "id": "PsmlajSGpKgK"
      },
      "source": [
        "13. Write code to generate predictions and compare them to the actual values in a scatter plot."
      ]
    },
    {
      "cell_type": "markdown",
      "metadata": {
        "id": "a7zZXab38Qj3"
      },
      "source": [
        "(Extra points, optional.) There are many different types of predictive models, each with their own plusses and minuses. \n",
        "\n",
        "14. Repeat the modeling performed in steps 12 and 13, but using a sklearn.ensemble.RandomForestRegressor. How does the scatter plot compare with the prior results?"
      ]
    },
    {
      "cell_type": "code",
      "metadata": {
        "collapsed": true,
        "id": "uZg_PeYo8Qj3"
      },
      "source": [
        "from sklearn.ensemble import RandomForestRegressor\n",
        "\n",
        "#YOUR CODE HERE"
      ],
      "execution_count": null,
      "outputs": []
    }
  ]
}