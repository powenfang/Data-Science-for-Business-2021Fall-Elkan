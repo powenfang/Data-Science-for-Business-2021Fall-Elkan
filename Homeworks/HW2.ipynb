{
 "cells": [
  {
   "cell_type": "markdown",
   "metadata": {
    "id": "kn3VA9_DGxCV"
   },
   "source": [
    "## Predicting attendance at appointments\n",
    "\n",
    "The purpose of this assignment is to get you up to speed with data manipulation and model training using Python. You should be able to begin working with data for your term project after finishing this.\n",
    "\n",
    "To open this notebook in Colab, click this button:\n",
    "<a href=\"https://colab.research.google.com/github/powenfang/Data-Science-for-Business-2021Fall-Elkan/blob/master/Homeworks/HW2.ipynb\" target=\"_parent\"> <img src=\"https://colab.research.google.com/assets/colab-badge.svg\" alt=\"Open In Colab\" /> </a>.\n",
    "Then save the notebook to your personal Google Drive, and run the following cell."
   ]
  },
  {
   "cell_type": "code",
   "execution_count": 1,
   "metadata": {
    "colab": {
     "base_uri": "https://localhost:8080/"
    },
    "executionInfo": {
     "elapsed": 1391,
     "status": "ok",
     "timestamp": 1633214679902,
     "user": {
      "displayName": "Steven Fang",
      "photoUrl": "https://lh3.googleusercontent.com/a/default-user=s64",
      "userId": "03632990350652708151"
     },
     "user_tz": 240
    },
    "id": "CcnA1IR8GxCa",
    "outputId": "3af1e765-29eb-40d8-bc60-aa64fe42aead",
    "scrolled": true
   },
   "outputs": [
    {
     "name": "stdout",
     "output_type": "stream",
     "text": [
      "Cloning into 'Data-Science-for-Business-2021Fall-Elkan'...\n",
      "remote: Enumerating objects: 40, done.\u001b[K\n",
      "remote: Counting objects: 100% (40/40), done.\u001b[K\n",
      "remote: Compressing objects: 100% (34/34), done.\u001b[K\n",
      "remote: Total 40 (delta 10), reused 21 (delta 2), pack-reused 0\u001b[K\n",
      "Unpacking objects: 100% (40/40), done.\n",
      "/content/Data-Science-for-Business-2021Fall-Elkan/Homeworks\n"
     ]
    }
   ],
   "source": [
    "!git clone https://github.com/powenfang/Data-Science-for-Business-2021Fall-Elkan\n",
    "%cd Data-Science-for-Business-2021Fall-Elkan/Homeworks/"
   ]
  },
  {
   "cell_type": "markdown",
   "metadata": {
    "id": "rfd2DEB7GxCb"
   },
   "source": [
    "### Scenario\n",
    "\n",
    "You've been hired as the manager of Sacred Heart Medical Clinic (SHMC). As part of its business model, SHMC usually employs doctors on demand, meaning that doctors are asked to come only when there are appointments. However, once a doctor has been asked to come, SHMC must pay him or her regardless of whether the patient shows up or not. You want to use data on previous appointments to predict which patients are going to attend, so that you can plan better how many doctors to call."
   ]
  },
  {
   "cell_type": "code",
   "execution_count": 1,
   "metadata": {
    "collapsed": true,
    "executionInfo": {
     "elapsed": 129,
     "status": "ok",
     "timestamp": 1633214683865,
     "user": {
      "displayName": "Steven Fang",
      "photoUrl": "https://lh3.googleusercontent.com/a/default-user=s64",
      "userId": "03632990350652708151"
     },
     "user_tz": 240
    },
    "id": "m3gCyMX3GxCc"
   },
   "outputs": [],
   "source": [
    "import pandas as pd\n",
    "\n",
    "data_path = \"./data/data-hw2.csv\" "
   ]
  },
  {
   "cell_type": "markdown",
   "metadata": {
    "id": "amBWYSIDGxCd"
   },
   "source": [
    "### Loading the data\n",
    "\n",
    "**1. Load the data referenced by the path above into a pandas data frame. Print the total number of rows and show the first few rows in the dataset.**"
   ]
  },
  {
   "cell_type": "code",
   "execution_count": null,
   "metadata": {
    "collapsed": true,
    "id": "GyLYVguuGxCd"
   },
   "outputs": [],
   "source": [
    "# Put your answer here"
   ]
  },
  {
   "cell_type": "markdown",
   "metadata": {
    "id": "jU0smuyAGxCd"
   },
   "source": [
    "Here's a brief summary of the features that you should see:\n",
    "\n",
    "1. PatientId - Identifier of a patient.\n",
    "2. AppointmentID - Identifier of each appointment.\n",
    "3. Gender - Male or female. \n",
    "4. ScheduledDay - The day someone registered the appointment.\n",
    "6. AppointmentDay - The day of the actual appointment, when the patient has to visit the doctor. \n",
    "7. Age - How old is the patient. \n",
    "8. Neighborhood - Place where the patient lives. \n",
    "9. Scholarship - Whether the patient receives financial help.\n",
    "10. Hypertension - Whether the patient suffers from hypertension.\n",
    "11. Diabetes - Whether the patient suffers from diabetes.\n",
    "12. Alcoholism - Whether the patient suffers from alcoholism.\n",
    "13. Handicap - Whether the patient is handicapped.\n",
    "14. SMS_received - Whether 1 or more SMS messages were sent to the patient.\n",
    "15. No-show - Whether the patient missed the appointment."
   ]
  },
  {
   "cell_type": "markdown",
   "metadata": {
    "id": "wCc_ZyStGxCf"
   },
   "source": [
    "**2. Check whether there are any Na (missing) or NaN values. Drop all the observations that include such values in any of the columns.**"
   ]
  },
  {
   "cell_type": "code",
   "execution_count": 5,
   "metadata": {
    "collapsed": true,
    "id": "Vw8pXZ0JGxCf"
   },
   "outputs": [],
   "source": [
    "# Put your answer here"
   ]
  },
  {
   "cell_type": "markdown",
   "metadata": {
    "id": "udzqDSw1GxCg"
   },
   "source": [
    "### Dealing with dates\n",
    "\n",
    "**3. Transform the data type of columns ScheduledDay and AppointmentDay into datetimes, using pandas.**"
   ]
  },
  {
   "cell_type": "code",
   "execution_count": 6,
   "metadata": {
    "collapsed": true,
    "id": "LtWYNjIvGxCh"
   },
   "outputs": [],
   "source": [
    "# Put your answer here"
   ]
  },
  {
   "cell_type": "markdown",
   "metadata": {
    "id": "f7K50z_2GxCh"
   },
   "source": [
    "**4. ScheduledDay includes a specific time with the date, but AppointmentDay does not. In order to compare both fields more easily, fix ScheduledDay to keep only the dates. Hint: See the [normalize](https://pandas.pydata.org/pandas-docs/stable/generated/pandas.Series.dt.normalize.html) method.**"
   ]
  },
  {
   "cell_type": "code",
   "execution_count": 7,
   "metadata": {
    "collapsed": true,
    "id": "hsXpmQqSGxCi"
   },
   "outputs": [],
   "source": [
    "# Put your answer here"
   ]
  },
  {
   "cell_type": "markdown",
   "metadata": {
    "id": "plU2hgkwGxCi"
   },
   "source": [
    "**5. Create a new column called 'TimeInAdvance' for the difference in days between ScheduledDay and AppointmentDay. Make sure that the new field includes only integers (and not TimeDelta, which is the difference between two datetimes).**"
   ]
  },
  {
   "cell_type": "code",
   "execution_count": 8,
   "metadata": {
    "collapsed": true,
    "id": "fveajuMEGxCi"
   },
   "outputs": [],
   "source": [
    "# Put your answer here"
   ]
  },
  {
   "cell_type": "markdown",
   "metadata": {
    "id": "xxXuJlQwGxCj"
   },
   "source": [
    "**Extra credit: There are many other features you may want to extract from date variables, such as the time at which the appointment was scheduled, the day of the week, the month, etc.**"
   ]
  },
  {
   "cell_type": "code",
   "execution_count": 9,
   "metadata": {},
   "outputs": [],
   "source": [
    "# Put your optional extra credit answer here"
   ]
  },
  {
   "cell_type": "markdown",
   "metadata": {
    "id": "o_ebPFPSGxCj"
   },
   "source": [
    "### Cleaning erroneous data"
   ]
  },
  {
   "cell_type": "markdown",
   "metadata": {
    "id": "SPEWZtZGGxCj"
   },
   "source": [
    "**6. Use the \"describe\" method from pandas to obtain general stats about the data. Are there anomalous values in any of the columns? \n",
    "Remove all observations that include values that are clearly wrong. Print the number of observations removed.\n",
    "Add a text box to the notebook explaining what you removed, and why.**"
   ]
  },
  {
   "cell_type": "code",
   "execution_count": 10,
   "metadata": {
    "collapsed": true,
    "id": "i0aJ80UKGxCj"
   },
   "outputs": [],
   "source": [
    "# Use the \"describe\" method here"
   ]
  },
  {
   "cell_type": "code",
   "execution_count": 11,
   "metadata": {
    "id": "xhcZFcShJUnm"
   },
   "outputs": [],
   "source": [
    "# Remove observations with wrong values"
   ]
  },
  {
   "cell_type": "markdown",
   "metadata": {
    "id": "JT3NaTCnGxCk"
   },
   "source": [
    "### Dealing with binary variables"
   ]
  },
  {
   "cell_type": "markdown",
   "metadata": {
    "id": "G3tuyj5nGxCk"
   },
   "source": [
    "**7. Create a new column called \"IsFemale\" that is 1 if the patient is female and 0 otherwise. Hint: Take a look at the [where](https://docs.scipy.org/doc/numpy-1.15.0/reference/generated/numpy.where.html) method. Then drop the Gender column in-place.**"
   ]
  },
  {
   "cell_type": "code",
   "execution_count": 12,
   "metadata": {
    "collapsed": true,
    "id": "fVgKAuHTGxCk"
   },
   "outputs": [],
   "source": [
    "# Put your answer here"
   ]
  },
  {
   "cell_type": "markdown",
   "metadata": {
    "id": "GL4yui-_GxCk"
   },
   "source": [
    "**8. Create a new column called \"No-show\" that equals 1 if the person didn't show and 0 otherwise.**"
   ]
  },
  {
   "cell_type": "code",
   "execution_count": 13,
   "metadata": {
    "collapsed": true,
    "id": "39BFuIZYGxCk"
   },
   "outputs": [],
   "source": [
    "# Put your answer here"
   ]
  },
  {
   "cell_type": "markdown",
   "metadata": {
    "id": "GsEUqGshGxCl"
   },
   "source": [
    "### Dealing with categorical variables\n",
    "\n",
    "**9. Look at the Neighborhood column. How many unique neighborhoods are there? Which are the 5 most common neighborhoods? Which are the 5 least common ones?** "
   ]
  },
  {
   "cell_type": "code",
   "execution_count": 14,
   "metadata": {
    "collapsed": true,
    "id": "5MyKmnKtGxCl"
   },
   "outputs": [],
   "source": [
    "# Put your answer here"
   ]
  },
  {
   "cell_type": "markdown",
   "metadata": {
    "id": "d3ZxdfQ9GxCl"
   },
   "source": [
    "**10. We often group together category values that are rare because it is hard to generalize from them. For the neighborhoods that occur fewer than 500 times,  replace their value with \"OTHER\".**"
   ]
  },
  {
   "cell_type": "code",
   "execution_count": 15,
   "metadata": {
    "collapsed": true,
    "id": "UZyeJdobGxCl"
   },
   "outputs": [],
   "source": [
    "# Put your answer here"
   ]
  },
  {
   "cell_type": "markdown",
   "metadata": {
    "id": "FwyfPMQSGxCl"
   },
   "source": [
    "**11. Add indicator variables for each remaining neighborhood to the dataframe. Hint: Look at the [get_dummies](https://pandas.pydata.org/pandas-docs/stable/generated/pandas.get_dummies.html) method. Then drop the Neighborhood column permanently.**"
   ]
  },
  {
   "cell_type": "code",
   "execution_count": 16,
   "metadata": {
    "collapsed": true,
    "id": "ZPmirIkQGxCl"
   },
   "outputs": [],
   "source": [
    "# Put your answer here"
   ]
  },
  {
   "cell_type": "markdown",
   "metadata": {
    "id": "HmDkwphCGxCm"
   },
   "source": [
    "### Dealing with longitudinal data\n",
    "\n",
    "**12. Look at the PatientsId column. How many patients have made more than one appointment?**"
   ]
  },
  {
   "cell_type": "code",
   "execution_count": 17,
   "metadata": {
    "collapsed": true,
    "id": "odkmcnZPGxCm"
   },
   "outputs": [],
   "source": [
    "# Put your answer here"
   ]
  },
  {
   "cell_type": "markdown",
   "metadata": {
    "id": "fT7rZp0DGxCm"
   },
   "source": [
    "Many patients have made multiple appointments. Panel data (also called longitudinal data) contain observations for the same individuals over multiple periods of time. In our case, such data may help us to make better predictions. For example, the fact that a patient has failed to show up in the past may be predictive of the patient not showing up in the future. However, taking advantage of panel data often requires additional data processing.\n",
    "\n",
    "**13. Create a new column called \"PreviousNoShows\" that for each appointment includes the number of previous appointments to which the patient did not show.**\n",
    "\n",
    "For example, if the person did not show to the first meeting, PreviousNoShows should be 0 for the first appointment and 1 for the second one, if it exists. Hint: Sort the dataframe by PatientID and ScheduledDay. Then, group by PatientID and compute the cumulative sum of the No-show variable. All this can be done in just a few lines of code using pandas."
   ]
  },
  {
   "cell_type": "code",
   "execution_count": 18,
   "metadata": {
    "collapsed": true,
    "id": "NzbG7CmdGxCm"
   },
   "outputs": [],
   "source": [
    "# Put your answer here"
   ]
  },
  {
   "cell_type": "markdown",
   "metadata": {
    "id": "l0-_WbVPGxCm"
   },
   "source": [
    "There are many other longitudinal features that we could compute, such as time between appointments, number of past appointments, fraction of appointments to which the patient did not show up, etc. However, for the rest of this homework, we will only work with PreviousNoShows."
   ]
  },
  {
   "cell_type": "markdown",
   "metadata": {
    "id": "NE9y0TTXGxCn"
   },
   "source": [
    "### Removing the unnecessary\n",
    "\n",
    "**14. Let's drop the columns from which we will not generalize. Drop PatientId, AppointmentID, ScheduledDay, AppointmentDay permanently.**"
   ]
  },
  {
   "cell_type": "code",
   "execution_count": 19,
   "metadata": {
    "collapsed": true,
    "id": "wCktWXmRGxCn"
   },
   "outputs": [],
   "source": [
    "# Put your answer here"
   ]
  },
  {
   "cell_type": "markdown",
   "metadata": {
    "id": "ZczdCdpQGxCn"
   },
   "source": [
    "### Training a predictive model\n",
    "\n",
    "**15. Let's train a model to predict if someone will not show up using a DecisionTreeClassifier. Report the training accuracy and the cross-validated accuracy using 5 folds.**"
   ]
  },
  {
   "cell_type": "code",
   "execution_count": 21,
   "metadata": {
    "collapsed": true,
    "id": "B9rhaRvrGxCn"
   },
   "outputs": [],
   "source": [
    "from sklearn.model_selection import cross_validate\n",
    "from sklearn.tree import DecisionTreeClassifier\n",
    "\n",
    "# Put your answer here"
   ]
  },
  {
   "cell_type": "markdown",
   "metadata": {
    "id": "KrHf45fAGxCn"
   },
   "source": [
    "One way to control the complexity of a decision tree is by requiring at least some minimum number of examples from the training set in each leaf. This is specified with the min_samples_leaf parameter. \n",
    "\n",
    "**16. Try values for min_samples_leaf ranging from 1 to 3000 by multiplicative increase, i.e., 1, 3, 10, 30, ..., 3000. For each value, compute the training accuracy and the cross-validated accuracy. Use the results to plot learning curves and explain what they show. What do you think is the most appropriate value for min_samples_leaf for this label and dataset?** "
   ]
  },
  {
   "cell_type": "code",
   "execution_count": 22,
   "metadata": {
    "collapsed": true,
    "id": "rPVftl6hGxCn"
   },
   "outputs": [],
   "source": [
    "# Put your answer here"
   ]
  },
  {
   "cell_type": "markdown",
   "metadata": {
    "id": "bQeCFd2NGxCo"
   },
   "source": [
    "**17. Business question: Do you think the accuracy of the model you built is good enough to be useful? Why? What information would be helpful to evaluate whether the model is useful? How would you use that information to evaluate usefulness?**"
   ]
  },
  {
   "cell_type": "code",
   "execution_count": 23,
   "metadata": {
    "collapsed": true,
    "id": "jqvjpNgsGxCo"
   },
   "outputs": [],
   "source": [
    "# Put your  answer here in a text box"
   ]
  },
  {
   "cell_type": "code",
   "execution_count": null,
   "metadata": {},
   "outputs": [],
   "source": []
  }
 ],
 "metadata": {
  "colab": {
   "collapsed_sections": [],
   "name": "DSBA_HW2_dev.ipynb",
   "provenance": [
    {
     "file_id": "https://github.com/bwolfson2/foster_in_dev/blob/master/Homeworks/HW%202.ipynb",
     "timestamp": 1633213426107
    }
   ]
  },
  "kernelspec": {
   "display_name": "Python 3",
   "language": "python",
   "name": "python3"
  },
  "language_info": {
   "codemirror_mode": {
    "name": "ipython",
    "version": 3
   },
   "file_extension": ".py",
   "mimetype": "text/x-python",
   "name": "python",
   "nbconvert_exporter": "python",
   "pygments_lexer": "ipython3",
   "version": "3.7.1"
  }
 },
 "nbformat": 4,
 "nbformat_minor": 2
}
